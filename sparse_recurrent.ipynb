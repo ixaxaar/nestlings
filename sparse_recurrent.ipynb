{
 "metadata": {
  "name": ""
 },
 "nbformat": 3,
 "nbformat_minor": 0,
 "worksheets": [
  {
   "cells": [
    {
     "cell_type": "markdown",
     "metadata": {},
     "source": [
      "#  A sparsely connected recurrent network\n",
      "We simlulate the model proposed in Brunel (2000).\n",
      "The network consists of:\n",
      "1. A population of excitatory neurons (N_e = 8000)\n",
      "2. A population of inhibitory neurons (N_i = 2000)\n",
      "3. Independent poisson processes to mimic outside acivity"
     ]
    },
    {
     "cell_type": "code",
     "collapsed": false,
     "input": [
      "import sys\n",
      "sys.path.append('/opt/lib/python2.7/site-packages/')"
     ],
     "language": "python",
     "metadata": {},
     "outputs": [],
     "prompt_number": 42
    },
    {
     "cell_type": "code",
     "collapsed": false,
     "input": [
      "import numpy as np\n",
      "import pylab\n",
      "\n",
      "import nest\n",
      "import nest.raster_plot\n",
      "nest.ResetKernel()"
     ],
     "language": "python",
     "metadata": {},
     "outputs": [],
     "prompt_number": 43
    },
    {
     "cell_type": "markdown",
     "metadata": {},
     "source": [
      "Enable multi-threading. Set number of threads equal to the number of processor cores (e.g. 8 for intel i7)"
     ]
    },
    {
     "cell_type": "code",
     "collapsed": false,
     "input": [
      "nest.SetKernelStatus({'local_num_threads': 8})"
     ],
     "language": "python",
     "metadata": {},
     "outputs": [],
     "prompt_number": 44
    },
    {
     "cell_type": "markdown",
     "metadata": {},
     "source": [
      "Population sizes of excitatory and inhibitory neurons"
     ]
    },
    {
     "cell_type": "code",
     "collapsed": false,
     "input": [
      "total_population = 10000\n",
      "\n",
      "pop_e = 0.8*total_population\n",
      "pop_i = 0.2*total_population"
     ],
     "language": "python",
     "metadata": {},
     "outputs": [],
     "prompt_number": 45
    },
    {
     "cell_type": "markdown",
     "metadata": {},
     "source": [
      "Neuron parameters:\n",
      "1. Synaptic delay\n",
      "2. The refractory period\n",
      "3. Membrane time constant\n",
      "4. The firing threshold\n",
      "5. Resting potential\n",
      "6. Reset potential\n",
      "7. EPSP Amplitude\n",
      "8. Background rate\n",
      "9. Membrane capacitance"
     ]
    },
    {
     "cell_type": "code",
     "collapsed": false,
     "input": [
      "delay = 1.5\n",
      "tau_ref = 2.0\n",
      "tau_m = 20.0\n",
      "V_th = 20.0\n",
      "V_e = 0.0\n",
      "V_reset = 10.0\n",
      "J_e = 0.1\n",
      "eta = 2.0\n",
      "C_m = 1.0"
     ],
     "language": "python",
     "metadata": {},
     "outputs": [],
     "prompt_number": 46
    },
    {
     "cell_type": "markdown",
     "metadata": {},
     "source": [
      "Neuron-neuron connection probabilities (10%)"
     ]
    },
    {
     "cell_type": "code",
     "collapsed": false,
     "input": [
      "connection_probability = 0.1\n",
      "C_e = connection_probability*pop_e\n",
      "C_i = connection_probability*pop_i"
     ],
     "language": "python",
     "metadata": {},
     "outputs": [],
     "prompt_number": 47
    },
    {
     "cell_type": "markdown",
     "metadata": {},
     "source": [
      "Factor for IPSP/EPSP amplitudes"
     ]
    },
    {
     "cell_type": "code",
     "collapsed": false,
     "input": [
      "g = 5.0"
     ],
     "language": "python",
     "metadata": {},
     "outputs": [],
     "prompt_number": 48
    },
    {
     "cell_type": "markdown",
     "metadata": {},
     "source": [
      "IPSP Amplitude"
     ]
    },
    {
     "cell_type": "code",
     "collapsed": false,
     "input": [
      "J_i = -1*g*J_e"
     ],
     "language": "python",
     "metadata": {},
     "outputs": [],
     "prompt_number": 49
    },
    {
     "cell_type": "markdown",
     "metadata": {},
     "source": [
      "Firing rate of a neuron in the external population"
     ]
    },
    {
     "cell_type": "code",
     "collapsed": false,
     "input": [
      "nu_ext = eta*V_th/(J_e*C_e*tau_m)"
     ],
     "language": "python",
     "metadata": {},
     "outputs": [],
     "prompt_number": 50
    },
    {
     "cell_type": "markdown",
     "metadata": {},
     "source": [
      "Population rate of the whole external population"
     ]
    },
    {
     "cell_type": "code",
     "collapsed": false,
     "input": [
      "p_rate = 1000.0*nu_ext*C_e"
     ],
     "language": "python",
     "metadata": {},
     "outputs": [],
     "prompt_number": 51
    },
    {
     "cell_type": "markdown",
     "metadata": {},
     "source": [
      "Make the nest kernel print progress of the simulation"
     ]
    },
    {
     "cell_type": "code",
     "collapsed": false,
     "input": [
      "nest.SetKernelStatus({'print_time': True})"
     ],
     "language": "python",
     "metadata": {},
     "outputs": [],
     "prompt_number": 52
    },
    {
     "cell_type": "markdown",
     "metadata": {},
     "source": [
      "Set the default values for nest"
     ]
    },
    {
     "cell_type": "code",
     "collapsed": false,
     "input": [
      "nest.SetDefaults('iaf_psc_delta', {\n",
      "                                   'C_m': C_m, \n",
      "                                   'tau_m': tau_m, \n",
      "                                   't_ref': tau_ref, \n",
      "                                   'E_L': 0.0, \n",
      "                                   'V_th': V_th, \n",
      "                                   'V_reset': V_reset\n",
      "                                   })"
     ],
     "language": "python",
     "metadata": {},
     "outputs": [],
     "prompt_number": 53
    },
    {
     "cell_type": "markdown",
     "metadata": {},
     "source": [
      "Create neurons"
     ]
    },
    {
     "cell_type": "code",
     "collapsed": false,
     "input": [
      "nodes = nest.Create('iaf_psc_delta', total_population)\n",
      "print pop_e\n",
      "nodes_e = nodes[:int(pop_e)]\n",
      "nodes_i = nodes[int(pop_e):]"
     ],
     "language": "python",
     "metadata": {},
     "outputs": [
      {
       "output_type": "stream",
       "stream": "stdout",
       "text": [
        "8000.0\n"
       ]
      }
     ],
     "prompt_number": 54
    },
    {
     "cell_type": "markdown",
     "metadata": {},
     "source": [
      "Create noise"
     ]
    },
    {
     "cell_type": "code",
     "collapsed": false,
     "input": [
      "noise = nest.Create('poisson_generator', 1, {'rate': p_rate})"
     ],
     "language": "python",
     "metadata": {},
     "outputs": [],
     "prompt_number": 55
    },
    {
     "cell_type": "markdown",
     "metadata": {},
     "source": [
      "Create a spike detector for each of the neuronal populations, and label them. Each detector outputs spikes into files corresponding to the label names"
     ]
    },
    {
     "cell_type": "code",
     "collapsed": false,
     "input": [
      "spikes = nest.Create('spike_detector', 2, [{'label': 'ex'}, {'label': 'in'}])\n",
      "spikes_e = spikes[:1]\n",
      "spikes_i = spikes[1:]"
     ],
     "language": "python",
     "metadata": {},
     "outputs": [],
     "prompt_number": 56
    },
    {
     "cell_type": "markdown",
     "metadata": {},
     "source": [
      "Set up synapse models with the help of pre-existing model 'static_synapse_hom_w', name them 'excitatory' and 'inhibitory'."
     ]
    },
    {
     "cell_type": "code",
     "collapsed": false,
     "input": [
      "nest.CopyModel('static_synapse_hom_w', 'excitatory', {'weight': J_e, 'delay': delay})\n",
      "\n",
      "nest.CopyModel('static_synapse_hom_w', 'inhibitory', {'weight': J_i, 'delay': delay})"
     ],
     "language": "python",
     "metadata": {},
     "outputs": [],
     "prompt_number": 57
    },
    {
     "cell_type": "markdown",
     "metadata": {},
     "source": [
      "Connect the nodes"
     ]
    },
    {
     "cell_type": "code",
     "collapsed": false,
     "input": [
      "nest.Connect(nodes_e, nodes, {'rule': 'fixed_indegree', 'indegree': int(C_e)}, 'excitatory')\n",
      "\n",
      "nest.Connect(nodes_i, nodes, {'rule': 'fixed_indegree', 'indegree': int(C_i)}, 'inhibitory')\n",
      "\n",
      "nest.Connect(noise, nodes, syn_spec='excitatory')"
     ],
     "language": "python",
     "metadata": {},
     "outputs": [],
     "prompt_number": 58
    },
    {
     "cell_type": "markdown",
     "metadata": {},
     "source": [
      "Connect probing devices"
     ]
    },
    {
     "cell_type": "code",
     "collapsed": false,
     "input": [
      "nest.Connect(nodes_e[:50], spikes_e)\n",
      "nest.Connect(nodes_i[:50], spikes_i)"
     ],
     "language": "python",
     "metadata": {},
     "outputs": [],
     "prompt_number": 59
    },
    {
     "cell_type": "markdown",
     "metadata": {},
     "source": [
      "Simulate the model"
     ]
    },
    {
     "cell_type": "code",
     "collapsed": false,
     "input": [
      "nest.Simulate(300)"
     ],
     "language": "python",
     "metadata": {},
     "outputs": [],
     "prompt_number": 60
    },
    {
     "cell_type": "code",
     "collapsed": false,
     "input": [
      "nest.raster_plot.from_device(spikes_e, hist=True)\n",
      "pylab.show()"
     ],
     "language": "python",
     "metadata": {},
     "outputs": [],
     "prompt_number": 61
    },
    {
     "cell_type": "code",
     "collapsed": false,
     "input": [],
     "language": "python",
     "metadata": {},
     "outputs": [],
     "prompt_number": 61
    }
   ],
   "metadata": {}
  }
 ]
}