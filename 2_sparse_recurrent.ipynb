{
 "metadata": {
  "name": ""
 },
 "nbformat": 3,
 "nbformat_minor": 0,
 "worksheets": [
  {
   "cells": [
    {
     "cell_type": "markdown",
     "metadata": {},
     "source": [
      "#  A sparsely connected recurrent network\n",
      "We simlulate the model proposed in Brunel (2000).\n",
      "http://link.springer.com/article/10.1023/A:1008925309027\n",
      "\n",
      "## Network Composition\n",
      "1. A population of excitatory neurons (Number of neurons, N_e = 8000)\n",
      "2. A population of inhibitory neurons (Number of neurons, N_i = 2000)\n",
      "3. Independent poisson processes to mimic outside acivity\n",
      "\n",
      "Import libraries and prepare nest for new simulation"
     ]
    },
    {
     "cell_type": "markdown",
     "metadata": {},
     "source": [
      "## Setup\n",
      "\n",
      "\n",
      " - Ensure that PYTHONPATH includes the nest installation directory\n",
      " - Import python numeric and plotting libraries\n",
      " - Reset the nest kernel to begin with a clean slate"
     ]
    },
    {
     "cell_type": "code",
     "collapsed": false,
     "input": [
      "import sys\n",
      "sys.path.append('/opt/lib/python2.7/site-packages/')"
     ],
     "language": "python",
     "metadata": {},
     "outputs": [],
     "prompt_number": 1
    },
    {
     "cell_type": "code",
     "collapsed": false,
     "input": [
      "import numpy as np\n",
      "import pylab\n",
      "\n",
      "import nest\n",
      "import nest.raster_plot\n",
      "nest.ResetKernel()"
     ],
     "language": "python",
     "metadata": {},
     "outputs": [],
     "prompt_number": 2
    },
    {
     "cell_type": "markdown",
     "metadata": {},
     "source": [
      "Enable multi-threading. Set number of threads equal to the number of processor cores (e.g. 8 for intel i7)\n",
      "\n",
      "This enables the nest simualtor to use multiple processor cores resulting in faster simulation."
     ]
    },
    {
     "cell_type": "code",
     "collapsed": false,
     "input": [
      "nest.SetKernelStatus({'local_num_threads': 8})"
     ],
     "language": "python",
     "metadata": {},
     "outputs": [],
     "prompt_number": 3
    },
    {
     "cell_type": "markdown",
     "metadata": {},
     "source": [
      "## Population sizes"
     ]
    },
    {
     "cell_type": "code",
     "collapsed": false,
     "input": [
      "total_population = 10000\n",
      "\n",
      "pop_e = 0.8*total_population\n",
      "pop_i = 0.2*total_population"
     ],
     "language": "python",
     "metadata": {},
     "outputs": [],
     "prompt_number": 4
    },
    {
     "cell_type": "markdown",
     "metadata": {},
     "source": [
      "## Neuron Models\n",
      "\n",
      "Nest supports a large number of neuron types. They can be viewed using:"
     ]
    },
    {
     "cell_type": "code",
     "collapsed": false,
     "input": [
      "nest.Models('nodes')"
     ],
     "language": "python",
     "metadata": {},
     "outputs": [
      {
       "metadata": {},
       "output_type": "pyout",
       "prompt_number": 5,
       "text": [
        "(u'ac_generator',\n",
        " u'aeif_cond_alpha',\n",
        " u'aeif_cond_alpha_RK5',\n",
        " u'aeif_cond_alpha_multisynapse',\n",
        " u'aeif_cond_exp',\n",
        " u'amat2_psc_exp',\n",
        " u'correlation_detector',\n",
        " u'correlomatrix_detector',\n",
        " u'dc_generator',\n",
        " u'gamma_sup_generator',\n",
        " u'ginzburg_neuron',\n",
        " u'hh_cond_exp_traub',\n",
        " u'hh_psc_alpha',\n",
        " u'ht_neuron',\n",
        " u'iaf_chs_2007',\n",
        " u'iaf_chxk_2008',\n",
        " u'iaf_cond_alpha',\n",
        " u'iaf_cond_alpha_mc',\n",
        " u'iaf_cond_exp',\n",
        " u'iaf_cond_exp_sfa_rr',\n",
        " u'iaf_neuron',\n",
        " u'iaf_psc_alpha',\n",
        " u'iaf_psc_alpha_canon',\n",
        " u'iaf_psc_alpha_multisynapse',\n",
        " u'iaf_psc_alpha_presc',\n",
        " u'iaf_psc_delta',\n",
        " u'iaf_psc_delta_canon',\n",
        " u'iaf_psc_exp',\n",
        " u'iaf_psc_exp_multisynapse',\n",
        " u'iaf_psc_exp_ps',\n",
        " u'iaf_tum_2000',\n",
        " u'izhikevich',\n",
        " u'mat2_psc_exp',\n",
        " u'mcculloch_pitts_neuron',\n",
        " u'mip_generator',\n",
        " u'multimeter',\n",
        " u'noise_generator',\n",
        " u'parrot_neuron',\n",
        " u'parrot_neuron_ps',\n",
        " u'poisson_generator',\n",
        " u'poisson_generator_ps',\n",
        " u'pp_pop_psc_delta',\n",
        " u'pp_psc_delta',\n",
        " u'ppd_sup_generator',\n",
        " u'pulsepacket_generator',\n",
        " u'sinusoidal_gamma_generator',\n",
        " u'sinusoidal_poisson_generator',\n",
        " u'sli_neuron',\n",
        " u'spike_detector',\n",
        " u'spike_generator',\n",
        " u'spin_detector',\n",
        " u'step_current_generator',\n",
        " u'subnet',\n",
        " u'topology_layer_free',\n",
        " u'topology_layer_free_3d',\n",
        " u'topology_layer_grid',\n",
        " u'topology_layer_grid_3d',\n",
        " u'voltmeter',\n",
        " u'volume_transmitter')"
       ]
      }
     ],
     "prompt_number": 5
    },
    {
     "cell_type": "markdown",
     "metadata": {},
     "source": [
      "To know more about a particular model, execute in a new ipython shell\n",
      "```python\n",
      "    nest.help('iaf_psc_delta')\n",
      "```"
     ]
    },
    {
     "cell_type": "markdown",
     "metadata": {},
     "source": [
      "We are going to use the `iaf_psc_delta` model neuron for this simulation.\n",
      "\n",
      "We define the default parameters for this model and later we set the model defaults to these values (for this session).\n",
      "\n",
      "Neuron parameters:\n",
      "1. Synaptic delay\n",
      "2. The refractory period\n",
      "3. Membrane time constant\n",
      "4. The firing threshold\n",
      "5. Resting potential\n",
      "6. Reset potential\n",
      "7. EPSP Amplitude\n",
      "8. Background rate\n",
      "9. Membrane capacitance"
     ]
    },
    {
     "cell_type": "code",
     "collapsed": false,
     "input": [
      "delay = 1.5\n",
      "tau_ref = 2.0\n",
      "tau_m = 20.0\n",
      "V_th = 20.0\n",
      "V_e = 0.0\n",
      "V_reset = 10.0\n",
      "J_e = 0.1\n",
      "eta = 2.0\n",
      "C_m = 1.0"
     ],
     "language": "python",
     "metadata": {},
     "outputs": [],
     "prompt_number": 6
    },
    {
     "cell_type": "markdown",
     "metadata": {},
     "source": [
      "## Network parameters"
     ]
    },
    {
     "cell_type": "markdown",
     "metadata": {},
     "source": [
      "Define Neuron-neuron connection probabilities (10%)"
     ]
    },
    {
     "cell_type": "code",
     "collapsed": false,
     "input": [
      "connection_probability = 0.1\n",
      "C_e = connection_probability*pop_e\n",
      "C_i = connection_probability*pop_i"
     ],
     "language": "python",
     "metadata": {},
     "outputs": [],
     "prompt_number": 7
    },
    {
     "cell_type": "markdown",
     "metadata": {},
     "source": [
      "Factor for IPSP/EPSP amplitudes"
     ]
    },
    {
     "cell_type": "code",
     "collapsed": false,
     "input": [
      "g = 5.0"
     ],
     "language": "python",
     "metadata": {},
     "outputs": [],
     "prompt_number": 8
    },
    {
     "cell_type": "markdown",
     "metadata": {},
     "source": [
      "IPSP Amplitude"
     ]
    },
    {
     "cell_type": "code",
     "collapsed": false,
     "input": [
      "J_i = -1*g*J_e"
     ],
     "language": "python",
     "metadata": {},
     "outputs": [],
     "prompt_number": 9
    },
    {
     "cell_type": "markdown",
     "metadata": {},
     "source": [
      "Firing rate of a neuron in the external population"
     ]
    },
    {
     "cell_type": "code",
     "collapsed": false,
     "input": [
      "nu_ext = eta*V_th/(J_e*C_e*tau_m)"
     ],
     "language": "python",
     "metadata": {},
     "outputs": [],
     "prompt_number": 10
    },
    {
     "cell_type": "markdown",
     "metadata": {},
     "source": [
      "Population rate of the whole external population"
     ]
    },
    {
     "cell_type": "code",
     "collapsed": false,
     "input": [
      "p_rate = 1000.0*nu_ext*C_e"
     ],
     "language": "python",
     "metadata": {},
     "outputs": [],
     "prompt_number": 11
    },
    {
     "cell_type": "markdown",
     "metadata": {},
     "source": [
      "Make the nest kernel print progress of the simulation"
     ]
    },
    {
     "cell_type": "code",
     "collapsed": false,
     "input": [
      "nest.SetKernelStatus({'print_time': True})"
     ],
     "language": "python",
     "metadata": {},
     "outputs": [],
     "prompt_number": 12
    },
    {
     "cell_type": "markdown",
     "metadata": {},
     "source": [
      "Set the default values for the `iaf_psc_delta` neuron model"
     ]
    },
    {
     "cell_type": "code",
     "collapsed": false,
     "input": [
      "nest.SetDefaults('iaf_psc_delta', {\n",
      "                                   'C_m': C_m, \n",
      "                                   'tau_m': tau_m, \n",
      "                                   't_ref': tau_ref, \n",
      "                                   'E_L': 0.0, \n",
      "                                   'V_th': V_th, \n",
      "                                   'V_reset': V_reset\n",
      "                                   })"
     ],
     "language": "python",
     "metadata": {},
     "outputs": [],
     "prompt_number": 13
    },
    {
     "cell_type": "markdown",
     "metadata": {},
     "source": [
      "## Create neurons"
     ]
    },
    {
     "cell_type": "code",
     "collapsed": false,
     "input": [
      "nodes = nest.Create('iaf_psc_delta', total_population)\n",
      "nodes_e = nodes[:int(pop_e)]\n",
      "nodes_i = nodes[int(pop_e):]"
     ],
     "language": "python",
     "metadata": {},
     "outputs": [],
     "prompt_number": 14
    },
    {
     "cell_type": "markdown",
     "metadata": {},
     "source": [
      "## Create inputs and activity detectors"
     ]
    },
    {
     "cell_type": "markdown",
     "metadata": {},
     "source": [
      "Create Poisson noise"
     ]
    },
    {
     "cell_type": "code",
     "collapsed": false,
     "input": [
      "noise = nest.Create('poisson_generator', 1, {'rate': p_rate})"
     ],
     "language": "python",
     "metadata": {},
     "outputs": [],
     "prompt_number": 15
    },
    {
     "cell_type": "markdown",
     "metadata": {},
     "source": [
      "Create a spike detector for each of the neuronal populations, and label them. Each detector outputs spikes into files corresponding to the label names"
     ]
    },
    {
     "cell_type": "code",
     "collapsed": false,
     "input": [
      "spikes = nest.Create('spike_detector', 2, [{'label': 'ex'}, {'label': 'in'}])\n",
      "spikes_e = spikes[:1]\n",
      "spikes_i = spikes[1:]"
     ],
     "language": "python",
     "metadata": {},
     "outputs": [],
     "prompt_number": 16
    },
    {
     "cell_type": "markdown",
     "metadata": {},
     "source": [
      "## Configure Synapse Models\n",
      "\n",
      "Set up synapse models with the help of pre-existing model 'static_synapse_hom_w', name them 'excitatory' and 'inhibitory'."
     ]
    },
    {
     "cell_type": "code",
     "collapsed": false,
     "input": [
      "nest.CopyModel('static_synapse_hom_w', 'excitatory', {'weight': J_e, 'delay': delay})\n",
      "\n",
      "nest.CopyModel('static_synapse_hom_w', 'inhibitory', {'weight': J_i, 'delay': delay})"
     ],
     "language": "python",
     "metadata": {},
     "outputs": [],
     "prompt_number": 17
    },
    {
     "cell_type": "markdown",
     "metadata": {},
     "source": [
      "## Connect the nodes"
     ]
    },
    {
     "cell_type": "code",
     "collapsed": false,
     "input": [
      "nest.Connect(nodes_e, nodes, {'rule': 'fixed_indegree', 'indegree': int(C_e)}, 'excitatory')\n",
      "\n",
      "nest.Connect(nodes_i, nodes, {'rule': 'fixed_indegree', 'indegree': int(C_i)}, 'inhibitory')\n",
      "\n",
      "nest.Connect(noise, nodes, syn_spec='excitatory')"
     ],
     "language": "python",
     "metadata": {},
     "outputs": [],
     "prompt_number": 18
    },
    {
     "cell_type": "markdown",
     "metadata": {},
     "source": [
      "## Connect probing devices"
     ]
    },
    {
     "cell_type": "code",
     "collapsed": false,
     "input": [
      "nest.Connect(nodes_e[:50], spikes_e)\n",
      "nest.Connect(nodes_i[:50], spikes_i)"
     ],
     "language": "python",
     "metadata": {},
     "outputs": [],
     "prompt_number": 19
    },
    {
     "cell_type": "markdown",
     "metadata": {},
     "source": [
      "## Simulate the model"
     ]
    },
    {
     "cell_type": "code",
     "collapsed": false,
     "input": [
      "nest.Simulate(300)"
     ],
     "language": "python",
     "metadata": {},
     "outputs": [],
     "prompt_number": 20
    },
    {
     "cell_type": "markdown",
     "metadata": {},
     "source": [
      "## Plot the results"
     ]
    },
    {
     "cell_type": "code",
     "collapsed": false,
     "input": [
      "nest.raster_plot.from_device(spikes_e, hist=True)\n",
      "pylab.show()"
     ],
     "language": "python",
     "metadata": {},
     "outputs": [
      {
       "metadata": {},
       "output_type": "display_data",
       "png": "[encoded data removed]",
       "text": [
        "<matplotlib.figure.Figure at 0x7fe4a948bcd0>"
       ]
      }
     ],
     "prompt_number": 21
    },
    {
     "cell_type": "code",
     "collapsed": false,
     "input": [],
     "language": "python",
     "metadata": {},
     "outputs": [],
     "prompt_number": 21
    }
   ],
   "metadata": {}
  }
 ]
}