{
 "metadata": {
  "name": ""
 },
 "nbformat": 3,
 "nbformat_minor": 0,
 "worksheets": [
  {
   "cells": [
    {
     "cell_type": "markdown",
     "metadata": {},
     "source": [
      "# Synchronization in networks\n",
      "\n",
      "This is the Brody-Hopfield model described in Brody, Hopfield (2003) doi:10.1016/S0896-6273(03)00120-X"
     ]
    },
    {
     "cell_type": "markdown",
     "metadata": {},
     "source": [
      "First, we initialize the environment"
     ]
    },
    {
     "cell_type": "code",
     "collapsed": false,
     "input": [
      "import sys\n",
      "sys.path.append('/opt/lib/python2.7/site-packages/')\n",
      "\n",
      "import numpy as np\n",
      "import pylab\n",
      "\n",
      "import nest\n",
      "import nest.raster_plot\n",
      "nest.ResetKernel()"
     ],
     "language": "python",
     "metadata": {},
     "outputs": [],
     "prompt_number": 1
    },
    {
     "cell_type": "markdown",
     "metadata": {},
     "source": [
      "Set up parallelization"
     ]
    },
    {
     "cell_type": "code",
     "collapsed": false,
     "input": [
      "nest.SetKernelStatus({'local_num_threads': 8})"
     ],
     "language": "python",
     "metadata": {},
     "outputs": [],
     "prompt_number": 2
    },
    {
     "cell_type": "markdown",
     "metadata": {},
     "source": [
      "Population size we are going to simulate"
     ]
    },
    {
     "cell_type": "code",
     "collapsed": false,
     "input": [
      "total_population = 1000"
     ],
     "language": "python",
     "metadata": {},
     "outputs": [],
     "prompt_number": 3
    },
    {
     "cell_type": "markdown",
     "metadata": {},
     "source": [
      "Neuron parameters"
     ]
    },
    {
     "cell_type": "code",
     "collapsed": false,
     "input": [
      "tau_m     = 20.0\n",
      "V_th      = 20.0\n",
      "E_L       = 10.0\n",
      "t_ref     = 2.0\n",
      "V_reset   = 0.0\n",
      "C_m       = 200.0\n",
      "V_m       = 0.0"
     ],
     "language": "python",
     "metadata": {},
     "outputs": [],
     "prompt_number": 4
    },
    {
     "cell_type": "code",
     "collapsed": false,
     "input": [
      "simulation_time = 600.0"
     ],
     "language": "python",
     "metadata": {},
     "outputs": [],
     "prompt_number": 5
    },
    {
     "cell_type": "markdown",
     "metadata": {},
     "source": [
      "Bias current range"
     ]
    },
    {
     "cell_type": "code",
     "collapsed": false,
     "input": [
      "bias_low = 140.0\n",
      "bias_high = 160.0"
     ],
     "language": "python",
     "metadata": {},
     "outputs": [],
     "prompt_number": 6
    },
    {
     "cell_type": "markdown",
     "metadata": {},
     "source": [
      "Set default values for the neuron type"
     ]
    },
    {
     "cell_type": "code",
     "collapsed": false,
     "input": [
      "nest.SetDefaults('iaf_psc_alpha', {\n",
      "                                   'tau_m': tau_m, \n",
      "                                   'V_th': V_th, \n",
      "                                   'E_L': E_L, \n",
      "                                   't_ref': t_ref, \n",
      "                                   'V_reset': V_reset, \n",
      "                                   'C_m': C_m, \n",
      "                                   'V_m': V_m\n",
      "                                   })"
     ],
     "language": "python",
     "metadata": {},
     "outputs": [],
     "prompt_number": 7
    },
    {
     "cell_type": "markdown",
     "metadata": {},
     "source": [
      "Create populations for:\n",
      "1. Driving current (sine wave)\n",
      "2. Stochastic noise\n",
      "3. Spike detectors"
     ]
    },
    {
     "cell_type": "code",
     "collapsed": false,
     "input": [
      "sine = nest.Create('ac_generator', 1, {'amplitude': 50.0, 'frequency': 35.0})\n",
      "noise = nest.Create('noise_generator', 1, {'mean': 0.0, 'std': 200.0})\n",
      "spike = nest.Create('spike_detector', 1, {'label': 'spikes'})"
     ],
     "language": "python",
     "metadata": {},
     "outputs": [],
     "prompt_number": 8
    },
    {
     "cell_type": "markdown",
     "metadata": {},
     "source": [
      "Create neurons of the population, each with a different bias current."
     ]
    },
    {
     "cell_type": "code",
     "collapsed": false,
     "input": [
      "neurons = ()\n",
      "for i in xrange(total_population):\n",
      "    neurons = neurons + nest.Create('iaf_psc_alpha', 1, {'I_e': bias_low + (i/total_population)*(bias_high-bias_low)})"
     ],
     "language": "python",
     "metadata": {},
     "outputs": [],
     "prompt_number": 9
    },
    {
     "cell_type": "markdown",
     "metadata": {},
     "source": [
      "Make the connections:\n",
      "1. Divergent connections from sine drivers to the neuronal population\n",
      "2. Divergent connections from poisson noise generators to the neuronal population\n",
      "3. Convergent connections from the neuronal population to the spike detectors"
     ]
    },
    {
     "cell_type": "code",
     "collapsed": false,
     "input": [
      "nest.Connect(sine, neurons)\n",
      "nest.Connect(noise, neurons)\n",
      "nest.Connect(neurons, spike)"
     ],
     "language": "python",
     "metadata": {},
     "outputs": [],
     "prompt_number": 10
    },
    {
     "cell_type": "markdown",
     "metadata": {},
     "source": [
      "Simulate the network"
     ]
    },
    {
     "cell_type": "code",
     "collapsed": false,
     "input": [
      "nest.Simulate(simulation_time)"
     ],
     "language": "python",
     "metadata": {},
     "outputs": [],
     "prompt_number": "*"
    },
    {
     "cell_type": "markdown",
     "metadata": {},
     "source": [
      "Show the raster plot of the firing activities of the neuronal population"
     ]
    },
    {
     "cell_type": "code",
     "collapsed": false,
     "input": [
      "nest.raster_plot.from_device(spike, hist=True)\n",
      "pylab.show()"
     ],
     "language": "python",
     "metadata": {},
     "outputs": [],
     "prompt_number": "*"
    },
    {
     "cell_type": "code",
     "collapsed": false,
     "input": [],
     "language": "python",
     "metadata": {},
     "outputs": [],
     "prompt_number": "*"
    }
   ],
   "metadata": {}
  }
 ]
}