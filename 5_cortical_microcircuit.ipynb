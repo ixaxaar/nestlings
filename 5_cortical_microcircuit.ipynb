{
 "metadata": {
  "name": ""
 },
 "nbformat": 3,
 "nbformat_minor": 0,
 "worksheets": [
  {
   "cells": [
    {
     "cell_type": "markdown",
     "metadata": {},
     "source": [
      "# Introduction\n",
      "\n",
      "We simulate a full-scale spiking model of the local cortical microcircuit by Potjans, Tobias C., and Markus Diesmann. \"The cell-type specific cortical microcircuit: relating structure and activity in a full-scale\n",
      "spiking network model.\" Cerebral Cortex (2014): bhs358.\n",
      "\n",
      "The model involves 4 cortical layers, each containing an axcitatory and inhibitory neuronal population:\n",
      "1. Layer 2/3\n",
      "- Layer 4\n",
      "- Layer 5\n",
      "- Layer 6\n",
      "\n",
      "The model also includes thalamic inputs to the cortical layers"
     ]
    },
    {
     "cell_type": "markdown",
     "metadata": {},
     "source": [
      "## Setup\n",
      "\n",
      "\n",
      " - Ensure that PYTHONPATH includes the nest installation directory\n",
      " - Import python numeric and plotting libraries\n",
      " - Import the python math library\n",
      " - Import nest and its required modules"
     ]
    },
    {
     "cell_type": "code",
     "collapsed": false,
     "input": [
      "import sys\n",
      "sys.path.append('/opt/lib/python2.7/site-packages/')"
     ],
     "language": "python",
     "metadata": {},
     "outputs": [],
     "prompt_number": 1
    },
    {
     "cell_type": "code",
     "collapsed": false,
     "input": [
      "import numpy as np\n",
      "import pylab"
     ],
     "language": "python",
     "metadata": {},
     "outputs": [],
     "prompt_number": 2
    },
    {
     "cell_type": "code",
     "collapsed": false,
     "input": [
      "import math"
     ],
     "language": "python",
     "metadata": {},
     "outputs": [],
     "prompt_number": 3
    },
    {
     "cell_type": "code",
     "collapsed": false,
     "input": [
      "import nest\n",
      "import nest.raster_plot"
     ],
     "language": "python",
     "metadata": {},
     "outputs": [],
     "prompt_number": 4
    },
    {
     "cell_type": "code",
     "collapsed": false,
     "input": [
      "import logging as log"
     ],
     "language": "python",
     "metadata": {},
     "outputs": [],
     "prompt_number": 5
    },
    {
     "cell_type": "markdown",
     "metadata": {},
     "source": [
      "#       Network parameters"
     ]
    },
    {
     "cell_type": "markdown",
     "metadata": {},
     "source": [
      "Area of network in $$mm^2$$ scales numbers of neurons\n",
      "\n",
      "use 1 for the full-size network (77,169 neurons)"
     ]
    },
    {
     "cell_type": "code",
     "collapsed": false,
     "input": [
      "area = 0.1"
     ],
     "language": "python",
     "metadata": {},
     "outputs": [],
     "prompt_number": 6
    },
    {
     "cell_type": "markdown",
     "metadata": {},
     "source": [
      "## Cortical layer population sizes\n",
      "\n",
      "Whether to use full-scale in-degrees when downscaling the number of neurons\n",
      "When preserve_K is false, the full-scale connection probabilities are used.\n",
      "\n",
      "**Note** that this produces different dynamics compared to the original model."
     ]
    },
    {
     "cell_type": "code",
     "collapsed": false,
     "input": [
      "preserve_K = True"
     ],
     "language": "python",
     "metadata": {},
     "outputs": [],
     "prompt_number": 7
    },
    {
     "cell_type": "code",
     "collapsed": false,
     "input": [
      "layers = ['L23', 'L4', 'L5', 'L6']"
     ],
     "language": "python",
     "metadata": {},
     "outputs": [],
     "prompt_number": 8
    },
    {
     "cell_type": "code",
     "collapsed": false,
     "input": [
      "full_scale_n_neurons = np.array([[20683,   #  layer 2/3 e\n",
      "                                  5834],   #  layer 2/3 i\n",
      "                                 [21915,   #  layer 4 e\n",
      "                                  5479],   #  layer 4 i\n",
      "                                 [4850,    #  layer 5 e\n",
      "                                  1065],   #  layer 5 i\n",
      "                                 [14395,   #  layer 6 e\n",
      "                                  2948]]   #  layer 6 i\n",
      "                                )"
     ],
     "language": "python",
     "metadata": {},
     "outputs": [],
     "prompt_number": 9
    },
    {
     "cell_type": "markdown",
     "metadata": {},
     "source": [
      "## Connection properties"
     ]
    },
    {
     "cell_type": "markdown",
     "metadata": {},
     "source": [
      "Mean EPSP amplitude (mV) for all connections except L4e->L2/3e"
     ]
    },
    {
     "cell_type": "code",
     "collapsed": false,
     "input": [
      "PSP_e = .15"
     ],
     "language": "python",
     "metadata": {},
     "outputs": [],
     "prompt_number": 10
    },
    {
     "cell_type": "markdown",
     "metadata": {},
     "source": [
      "Mean EPSP amplitude (mv) for L4e->L2/3e connections see p. 801 of the paper, second paragraph under 'Model Parameterization',\n",
      "and the caption to Supplementary Fig. 7"
     ]
    },
    {
     "cell_type": "code",
     "collapsed": false,
     "input": [
      "PSP_e_23_4 = PSP_e * 2"
     ],
     "language": "python",
     "metadata": {},
     "outputs": [],
     "prompt_number": 11
    },
    {
     "cell_type": "markdown",
     "metadata": {},
     "source": [
      "Standard deviation of PSC amplitudes relative to mean PSC amplitudes"
     ]
    },
    {
     "cell_type": "code",
     "collapsed": false,
     "input": [
      "PSC_rel_sd = 0.1"
     ],
     "language": "python",
     "metadata": {},
     "outputs": [],
     "prompt_number": 12
    },
    {
     "cell_type": "markdown",
     "metadata": {},
     "source": [
      "IPSP amplitude relative to EPSP amplitude"
     ]
    },
    {
     "cell_type": "code",
     "collapsed": false,
     "input": [
      "g = -4."
     ],
     "language": "python",
     "metadata": {},
     "outputs": [],
     "prompt_number": 13
    },
    {
     "cell_type": "markdown",
     "metadata": {},
     "source": [
      "Connection probabilities for >=1 connection between neurons in the given populations\n",
      "columns correspond to source populations; rows to target populations"
     ]
    },
    {
     "cell_type": "code",
     "collapsed": false,
     "input": [
      "# source                2/3e      2/3i      4e       4i      5e       5i        6e      6i\n",
      "conn_probs = np.array([[0.1009,  0.1689,  0.0437,  0.0818,  0.0323,  0.,      0.0076,  0.    ], # 2/3e\n",
      "                       [0.1346,  0.1371,  0.0316,  0.0515,  0.0755,  0.,      0.0042,  0.    ], # 2/3i\n",
      "                       [0.0077,  0.0059,  0.0497,  0.135,   0.0067,  0.0003,  0.0453,  0.    ], # 4e\n",
      "                       [0.0691,  0.0029,  0.0794,  0.1597,  0.0033,  0.,      0.1057,  0.    ], # 4i\n",
      "                       [0.1004,  0.0622,  0.0505,  0.0057,  0.0831,  0.3726,  0.0204,  0.    ], # 5e\n",
      "                       [0.0548,  0.0269,  0.0257,  0.0022,  0.06,    0.3158,  0.0086,  0.    ], # 5i\n",
      "                       [0.0156,  0.0066,  0.0211,  0.0166,  0.0572,  0.0197,  0.0396,  0.2252], # 6e\n",
      "                       [0.0364,  0.001,   0.0034,  0.0005,  0.0277,  0.008,   0.0658,  0.1443]] # 6i\n",
      "                      )"
     ],
     "language": "python",
     "metadata": {},
     "outputs": [],
     "prompt_number": 14
    },
    {
     "cell_type": "markdown",
     "metadata": {},
     "source": [
      "Mean dendritic delays for excitatory and inhibitory transmission (ms)"
     ]
    },
    {
     "cell_type": "code",
     "collapsed": false,
     "input": [
      "delays = np.array([1.5, 0.75])"
     ],
     "language": "python",
     "metadata": {},
     "outputs": [],
     "prompt_number": 15
    },
    {
     "cell_type": "markdown",
     "metadata": {},
     "source": [
      "Standard deviation relative to mean delays"
     ]
    },
    {
     "cell_type": "code",
     "collapsed": false,
     "input": [
      "delay_rel_sd = 0.5"
     ],
     "language": "python",
     "metadata": {},
     "outputs": [],
     "prompt_number": 16
    },
    {
     "cell_type": "markdown",
     "metadata": {},
     "source": [
      "Connection pattern used in connection calls connecting populations"
     ]
    },
    {
     "cell_type": "code",
     "collapsed": false,
     "input": [
      "conn_dict = {'rule': 'fixed_total_number'}"
     ],
     "language": "python",
     "metadata": {},
     "outputs": [],
     "prompt_number": 17
    },
    {
     "cell_type": "markdown",
     "metadata": {},
     "source": [
      "Weight distribution of connections between populations"
     ]
    },
    {
     "cell_type": "code",
     "collapsed": false,
     "input": [
      "weight_dict_exc = {'distribution': 'normal_clipped', 'low': 0.0}\n",
      "weight_dict_inh = {'distribution': 'normal_clipped', 'high': 0.0}"
     ],
     "language": "python",
     "metadata": {},
     "outputs": [],
     "prompt_number": 18
    },
    {
     "cell_type": "markdown",
     "metadata": {},
     "source": [
      "Delay distribution of connections between populations"
     ]
    },
    {
     "cell_type": "code",
     "collapsed": false,
     "input": [
      "delay_dict = {'distribution': 'normal_clipped', 'low': 0.1}"
     ],
     "language": "python",
     "metadata": {},
     "outputs": [],
     "prompt_number": 19
    },
    {
     "cell_type": "markdown",
     "metadata": {},
     "source": [
      "Default synapse dictionary"
     ]
    },
    {
     "cell_type": "code",
     "collapsed": false,
     "input": [
      "syn_dict = {'model': 'static_synapse'}"
     ],
     "language": "python",
     "metadata": {},
     "outputs": [],
     "prompt_number": 20
    },
    {
     "cell_type": "markdown",
     "metadata": {},
     "source": [
      "## Single-neuron parameters\n",
      "\n",
      "Neuron model. For PSP-to-PSC conversion to\n",
      "be correct, synapses should be current-based\n",
      "with an exponential time course\n",
      "mean of initial membrane potential (mV)\n",
      "std of initial membrane potential (mV)"
     ]
    },
    {
     "cell_type": "code",
     "collapsed": false,
     "input": [
      "neuron_model = \"iaf_psc_exp\""
     ],
     "language": "python",
     "metadata": {},
     "outputs": [],
     "prompt_number": 21
    },
    {
     "cell_type": "code",
     "collapsed": false,
     "input": [
      "Vm0_mean = -58.0"
     ],
     "language": "python",
     "metadata": {},
     "outputs": [],
     "prompt_number": 22
    },
    {
     "cell_type": "code",
     "collapsed": false,
     "input": [
      "Vm0_std = 10.0"
     ],
     "language": "python",
     "metadata": {},
     "outputs": [],
     "prompt_number": 23
    },
    {
     "cell_type": "markdown",
     "metadata": {},
     "source": [
      "Neuron model parameters"
     ]
    },
    {
     "cell_type": "code",
     "collapsed": false,
     "input": [
      "model_params = {'tau_m': 10.,        # Membrane time constant (ms)\n",
      "                'tau_syn_ex': 0.5,   # Excitatory synaptic time constant (ms)\n",
      "                'tau_syn_in': 0.5,   # Inhibitory synaptic time constant (ms)\n",
      "                't_ref': 2.,         # Absolute refractory period (ms)\n",
      "                'E_L': -65.,         # Resting membrane potential (mV)\n",
      "                'V_th': -50.,        # Spike threshold (mV)\n",
      "                'C_m': 250.,         # Membrane capacitance (pF)\n",
      "                'V_reset': -65.      # Reset potential (mV)\n",
      "               }"
     ],
     "language": "python",
     "metadata": {},
     "outputs": [],
     "prompt_number": 24
    },
    {
     "cell_type": "markdown",
     "metadata": {},
     "source": [
      "## Stimulus parameters"
     ]
    },
    {
     "cell_type": "markdown",
     "metadata": {},
     "source": [
      "Rate of background Poisson input at each external input synapse (spikes/s)"
     ]
    },
    {
     "cell_type": "code",
     "collapsed": false,
     "input": [
      "bg_rate = 8."
     ],
     "language": "python",
     "metadata": {},
     "outputs": [],
     "prompt_number": 25
    },
    {
     "cell_type": "markdown",
     "metadata": {},
     "source": [
      "DC amplitude at each external input synapse (pA)\n",
      "This is relevant for reproducing Potjans & Diesmann (2012) Fig. 7."
     ]
    },
    {
     "cell_type": "code",
     "collapsed": false,
     "input": [
      "dc_amplitude = 0."
     ],
     "language": "python",
     "metadata": {},
     "outputs": [],
     "prompt_number": 26
    },
    {
     "cell_type": "markdown",
     "metadata": {},
     "source": [
      "In-degrees for background input"
     ]
    },
    {
     "cell_type": "code",
     "collapsed": false,
     "input": [
      "K_bg = np.array([[1600,  # 2/3e\n",
      "                1500],  # 2/3i\n",
      "               [2100,   # 4e\n",
      "                1900],  # 4i\n",
      "               [2000,   # 5e\n",
      "                1900],  # 5i\n",
      "               [2900,   # 6e\n",
      "                2100]]  # 6i\n",
      "              )"
     ],
     "language": "python",
     "metadata": {},
     "outputs": [],
     "prompt_number": 27
    },
    {
     "cell_type": "markdown",
     "metadata": {},
     "source": [
      "Optional additional thalamic input (Poisson)\n",
      "Set n_thal to 0 to avoid this input.\n",
      "For producing Potjans & Diesmann (2012) Fig. 10, n_thal=902 was used.\n",
      "Note that the thalamic rate here reproduces the simulation results\n",
      "Shown in the paper, and differs from the rate given in the text."
     ]
    },
    {
     "cell_type": "code",
     "collapsed": false,
     "input": [
      "n_thal = 0.          # Size of thalamic population\n",
      "th_start = 700.     # Onset of thalamic input (ms)\n",
      "th_duration = 10.   # Duration of thalamic input (ms)\n",
      "th_rate = 120.      # Rate of thalamic neurons (spikes/s)\n",
      "PSP_ext = 0.15      # Mean EPSP amplitude (mV) for external input"
     ],
     "language": "python",
     "metadata": {},
     "outputs": [],
     "prompt_number": 28
    },
    {
     "cell_type": "markdown",
     "metadata": {},
     "source": [
      "Connection probabilities for thalamic input"
     ]
    },
    {
     "cell_type": "code",
     "collapsed": false,
     "input": [
      "C_th = np.array([[0.0,       # 2/3e\n",
      "                  0.0],       # 2/3i\n",
      "                 [0.0983,     # 4e\n",
      "                  0.0619],    # 4i\n",
      "                 [0.0,        # 5e\n",
      "                  0.0],       # 5i\n",
      "                 [0.0512,     # 6e\n",
      "                  0.0196]]    # 6i\n",
      "                )"
     ],
     "language": "python",
     "metadata": {},
     "outputs": [],
     "prompt_number": 29
    },
    {
     "cell_type": "markdown",
     "metadata": {},
     "source": [
      "Mean delay of thalamic input (ms)"
     ]
    },
    {
     "cell_type": "code",
     "collapsed": false,
     "input": [
      "delay_th = 1.5"
     ],
     "language": "python",
     "metadata": {},
     "outputs": [],
     "prompt_number": 30
    },
    {
     "cell_type": "markdown",
     "metadata": {},
     "source": [
      "Standard deviation relative to mean delay of thalamic input"
     ]
    },
    {
     "cell_type": "code",
     "collapsed": false,
     "input": [
      "delay_th_rel_sd = 0.5"
     ],
     "language": "python",
     "metadata": {},
     "outputs": [],
     "prompt_number": 31
    },
    {
     "cell_type": "markdown",
     "metadata": {},
     "source": [
      "# Simulation parameters"
     ]
    },
    {
     "cell_type": "code",
     "collapsed": false,
     "input": [
      "t_sim = 1000.0      # simulated time (ms)\n",
      "dt = 0.1            # simulation step (ms). ault is 0.1 ms.\n",
      "allgather = True    # communication protocol"
     ],
     "language": "python",
     "metadata": {},
     "outputs": [],
     "prompt_number": 32
    },
    {
     "cell_type": "markdown",
     "metadata": {},
     "source": [
      "## Master seed for random number generators\n",
      "Actual seeds will be `master_seed` ... `master_seed + 2*n_vp`\n",
      " ==>> different master seeds must be spaced by at least `2*n_vp + 1`\n",
      "    \n",
      "See Gewaltig et al. (2012) for details"
     ]
    },
    {
     "cell_type": "code",
     "collapsed": false,
     "input": [
      "master_seed = 123456    # Changes rng_seeds and grng_seed\n",
      "\n",
      "n_mpi_procs = 1             # Number of MPI processes\n",
      "\n",
      "n_threads_per_proc = 8      # Number of threads per MPI process\n",
      "                            # Use for instance 24 for a full-scale simulation"
     ],
     "language": "python",
     "metadata": {},
     "outputs": [],
     "prompt_number": 33
    },
    {
     "cell_type": "markdown",
     "metadata": {},
     "source": [
      "## Number of virtual processes\n",
      "\n",
      "This should be an integer multiple of\n",
      "the number of MPI processes.\n",
      "See Morrison et al. (2005) Neural Comput"
     ]
    },
    {
     "cell_type": "code",
     "collapsed": false,
     "input": [
      "n_vp = n_threads_per_proc * n_mpi_procs"
     ],
     "language": "python",
     "metadata": {},
     "outputs": [],
     "prompt_number": 34
    },
    {
     "cell_type": "markdown",
     "metadata": {},
     "source": [
      "# Recording parameters"
     ]
    },
    {
     "cell_type": "code",
     "collapsed": false,
     "input": [
      "overwrite_existing_files =  True"
     ],
     "language": "python",
     "metadata": {},
     "outputs": [],
     "prompt_number": 35
    },
    {
     "cell_type": "markdown",
     "metadata": {},
     "source": [
      "Whether to record spikes from a fixed fraction of neurons in each population\n",
      "If false, a fixed number of neurons is recorded in each population.\n",
      "Record_fraction_neurons_spikes True with f_rec_spikes 1. records all spikes"
     ]
    },
    {
     "cell_type": "code",
     "collapsed": false,
     "input": [
      "record_fraction_neurons_spikes =  True\n",
      "\n",
      "if record_fraction_neurons_spikes:\n",
      "  frac_rec_spikes = 0.1\n",
      "else:\n",
      "  n_rec_spikes = 100"
     ],
     "language": "python",
     "metadata": {},
     "outputs": [],
     "prompt_number": 36
    },
    {
     "cell_type": "markdown",
     "metadata": {},
     "source": [
      "Whether to record voltage from a fixed fraction of neurons in each population"
     ]
    },
    {
     "cell_type": "code",
     "collapsed": false,
     "input": [
      "record_fraction_neurons_voltage =  True\n",
      "\n",
      "if record_fraction_neurons_voltage:\n",
      "  frac_rec_voltage = 0.02\n",
      "else:\n",
      "  n_rec_voltage = 20."
     ],
     "language": "python",
     "metadata": {},
     "outputs": [],
     "prompt_number": 37
    },
    {
     "cell_type": "markdown",
     "metadata": {},
     "source": [
      "Whether to write any recorded cortical spikes to file"
     ]
    },
    {
     "cell_type": "code",
     "collapsed": false,
     "input": [
      "save_cortical_spikes =  True"
     ],
     "language": "python",
     "metadata": {},
     "outputs": [],
     "prompt_number": 38
    },
    {
     "cell_type": "markdown",
     "metadata": {},
     "source": [
      "Whether to write any recorded membrane potentials to file"
     ]
    },
    {
     "cell_type": "code",
     "collapsed": false,
     "input": [
      "save_voltages =  True"
     ],
     "language": "python",
     "metadata": {},
     "outputs": [],
     "prompt_number": 39
    },
    {
     "cell_type": "markdown",
     "metadata": {},
     "source": [
      "Whether to record thalamic spikes (only used when n_thal in\n",
      "Network_params.sli is nonzero)"
     ]
    },
    {
     "cell_type": "code",
     "collapsed": false,
     "input": [
      "record_thalamic_spikes =  True"
     ],
     "language": "python",
     "metadata": {},
     "outputs": [],
     "prompt_number": 40
    },
    {
     "cell_type": "markdown",
     "metadata": {},
     "source": [
      "Whether to write any recorded thalamic spikes to file"
     ]
    },
    {
     "cell_type": "code",
     "collapsed": false,
     "input": [
      "save_thalamic_spikes =  True"
     ],
     "language": "python",
     "metadata": {},
     "outputs": [],
     "prompt_number": 41
    },
    {
     "cell_type": "markdown",
     "metadata": {},
     "source": [
      "Name of file to which to write global IDs"
     ]
    },
    {
     "cell_type": "code",
     "collapsed": false,
     "input": [
      "GID_filename =  'population_GIDs.dat'"
     ],
     "language": "python",
     "metadata": {},
     "outputs": [],
     "prompt_number": 42
    },
    {
     "cell_type": "markdown",
     "metadata": {},
     "source": [
      "Stem for spike detector file labels"
     ]
    },
    {
     "cell_type": "code",
     "collapsed": false,
     "input": [
      "spike_detector_label =  'spikes'"
     ],
     "language": "python",
     "metadata": {},
     "outputs": [],
     "prompt_number": 43
    },
    {
     "cell_type": "markdown",
     "metadata": {},
     "source": [
      "Stem for voltmeter file labels"
     ]
    },
    {
     "cell_type": "code",
     "collapsed": false,
     "input": [
      "voltmeter_label =  'voltages'"
     ],
     "language": "python",
     "metadata": {},
     "outputs": [],
     "prompt_number": 44
    },
    {
     "cell_type": "markdown",
     "metadata": {},
     "source": [
      "Stem for thalamic spike detector file labels"
     ]
    },
    {
     "cell_type": "code",
     "collapsed": false,
     "input": [
      "th_spike_detector_label =  'th_spikes'"
     ],
     "language": "python",
     "metadata": {},
     "outputs": [],
     "prompt_number": 45
    },
    {
     "cell_type": "markdown",
     "metadata": {},
     "source": [
      "## Global variables"
     ]
    },
    {
     "cell_type": "code",
     "collapsed": false,
     "input": [
      "n_layers = None\n",
      "n_pops_per_layer = None\n",
      "normal_rdvs = None\n",
      "\n",
      "PSC_e = None\n",
      "PSC_e_23_4 = None\n",
      "PSP_i = None\n",
      "PSC_i = None\n",
      "PSC_ext = None\n",
      "PSC_array = None\n",
      "PSC_sd = None\n",
      "PSC_th_sd = None\n",
      "delays_sd = None\n",
      "delay_th_sd = None\n",
      "n_neurons_rec_spikes = None\n",
      "n_neurons_rec_voltage = None\n",
      "n_neurons = None\n",
      "\n",
      "neuron_subnet_GIDs = None\n",
      "spike_detector_GIDs = None\n",
      "voltmeter_GIDs = None\n",
      "poisson_GIDs = None\n",
      "dc_GIDs = None\n",
      "th_neuron_subnet_GID = None\n",
      "th_poisson_GID = None\n",
      "th_spike_detector_GID = None"
     ],
     "language": "python",
     "metadata": {},
     "outputs": [],
     "prompt_number": 46
    },
    {
     "cell_type": "markdown",
     "metadata": {},
     "source": [
      "# Utility functions\n",
      "\n",
      "1. GetLocalNodes: Fetch nodes in the local machine associated with the given subnet\n",
      "- GetGlobalNodes: Fetch all nodes in all machines associated with the given subnet\n",
      "- CheckParameters: Verify whether the parameters supplied above are sane"
     ]
    },
    {
     "cell_type": "code",
     "collapsed": false,
     "input": [
      "def GetLocalNodes(subnets):\n",
      "  if type(subnets) is not tuple:\n",
      "    subnets = tuple(subnets)\n",
      "  return nest.GetNodes(subnets, local_only=True)"
     ],
     "language": "python",
     "metadata": {},
     "outputs": [],
     "prompt_number": 47
    },
    {
     "cell_type": "code",
     "collapsed": false,
     "input": [
      "def GetGlobalNodes(subnets):\n",
      "  if type(subnets) is not tuple:\n",
      "    subnets = tuple(subnets)\n",
      "  return nest.GetNodes(subnets, local_only=False)"
     ],
     "language": "python",
     "metadata": {},
     "outputs": [],
     "prompt_number": 48
    },
    {
     "cell_type": "code",
     "collapsed": false,
     "input": [
      "def CheckParameters():\n",
      "  global n_layers\n",
      "  global n_pops_per_layer\n",
      "\n",
      "  if neuron_model != 'iaf_psc_exp':\n",
      "    if nest.Rank() != 0:\n",
      "      log.warn('Unexpected neuron type: script is tuned to \"iaf_psc_exp\" neurons.')\n",
      "\n",
      "  # number of layers\n",
      "  n_layers = len(full_scale_n_neurons)\n",
      "  # number of populations in each layer\n",
      "  n_pops_per_layer = np.shape(full_scale_n_neurons)[1]\n",
      "\n",
      "  # if np.shape(conn_probs)[0] != n_layers*n_pops_per_layer or \\\n",
      "  #   np.shape(conn_probs)[1] != n_layers*n_pops_per_layer:\n",
      "  #   raise ValueError('conn_probs_dimensions')\n",
      "\n",
      "  # Fraction of neurons to be recorded from cannot be greater than 1\n",
      "  if record_fraction_neurons_spikes:\n",
      "    if frac_rec_spikes > 1:\n",
      "      raise ValueError('frac_rec_spikes')\n",
      "  else:\n",
      "    # Calculate the number of neurons from which spikes are to be recorded\n",
      "    if n_rec_spikes > area * min(map(min, full_scale_n_neurons)):\n",
      "      raise ValueError('n_rec_spikes')\n",
      "\n",
      "  # Fraction of neurons to be recorded from cannot be greater than 1\n",
      "  if record_fraction_neurons_voltage:\n",
      "    if frac_rec_voltage > 1:\n",
      "      raise ValueError('frac_rec_voltage')\n",
      "  else:\n",
      "    # Calculate the number of neurons from which voltages are to be recorded\n",
      "    if n_rec_voltage > area * min(map(min, full_scale_n_neurons)):\n",
      "      raise ValueError('n_rec_voltage')"
     ],
     "language": "python",
     "metadata": {},
     "outputs": [],
     "prompt_number": 49
    },
    {
     "cell_type": "markdown",
     "metadata": {},
     "source": [
      "# Prepare Simulation\n",
      "\n",
      "1. Reset the kernel\n",
      "- Set default kernel status according to the parameters supplied above\n",
      "- Initialize thread-local random generator seeds"
     ]
    },
    {
     "cell_type": "code",
     "collapsed": false,
     "input": [
      "def PrepareSimulation():\n",
      "  global normal_rdvs\n",
      "\n",
      "  nest.ResetKernel()\n",
      "\n",
      "  nest.SetKernelStatus({\n",
      "    'resolution': dt,\n",
      "    'total_num_virtual_procs': n_vp,\n",
      "    'communicate_allgather': allgather,\n",
      "    'overwrite_files': overwrite_existing_files,\n",
      "    'rng_seeds': range(master_seed, master_seed + n_vp),    # local RNG seeds\n",
      "    'grng_seed': master_seed + n_vp                         # global RNG seed\n",
      "  })\n",
      "#  if run_mode == 'production':\n",
      "#    nest.SetKernelStatus({'data_path': output_path})\n",
      "\n",
      "  seed_offset =  master_seed + n_vp\n",
      "  normal_rdvs = [np.random.RandomState(s) for s in range(seed_offset, seed_offset + n_vp)]\n"
     ],
     "language": "python",
     "metadata": {},
     "outputs": [],
     "prompt_number": 50
    },
    {
     "cell_type": "markdown",
     "metadata": {},
     "source": [
      "# Calculate network and model parameters"
     ]
    },
    {
     "cell_type": "code",
     "collapsed": false,
     "input": [
      "def DerivedParameters():\n",
      "  global PSC_e\n",
      "  global PSC_e_23_4\n",
      "  global PSP_i\n",
      "  global PSC_i\n",
      "  global PSC_ext\n",
      "  global PSC_array\n",
      "  global PSC_sd\n",
      "  global PSC_th_sd\n",
      "  global delays_sd\n",
      "  global delay_th_sd\n",
      "  global n_neurons_rec_spikes\n",
      "  global n_neurons_rec_voltage\n",
      "  global n_neurons\n",
      "\n",
      "  # compute numbers of neurons for the given surface area\n",
      "  n_neurons = np.array(map(lambda x: map(int, x), full_scale_n_neurons*area))\n",
      "\n",
      "  m = model_params\n",
      "  # compute PSC amplitude from PSP amplitude\n",
      "  # factor for transforming PSP amplitude to PSC amplitude\n",
      "  re = m['tau_m'] / m['tau_syn_ex']\n",
      "  de = m['tau_syn_ex'] - m['tau_m']\n",
      "  ri = m['tau_m'] / m['tau_syn_in']\n",
      "  di = m['tau_syn_in'] - m['tau_m']\n",
      "\n",
      "  PSC_e_over_PSP_e = (((m['C_m'])**(-1)*m['tau_m']*m['tau_syn_ex']/de*(re**(m['tau_m']/de)-re**(m['tau_syn_ex']/de)))**(-1))\n",
      "\n",
      "  PSC_i_over_PSP_i = (((m['C_m'])**(-1)*m['tau_m']*m['tau_syn_in']/di*(ri**(m['tau_m']/di)-ri**(m['tau_syn_in']/di)))**(-1))\n",
      "\n",
      "  PSC_e =  PSC_e_over_PSP_e * PSP_e\n",
      "  PSC_e_23_4 =  PSC_e_over_PSP_e * PSP_e_23_4\n",
      "  PSP_i =  PSP_e * g\n",
      "  PSC_i =  PSC_i_over_PSP_i * PSP_i\n",
      "\n",
      "  # PSC amplitude for all external input\n",
      "  PSC_ext =  PSC_e_over_PSP_e * PSP_ext\n",
      "\n",
      "  # array of synaptic current amplitudes\n",
      "  PSC_array = np.tile(np.array([PSC_e, PSC_i]), (4,2,4,1))\n",
      "  PSC_array[0, 0, 1, 0] = PSC_e_23_4\n",
      "\n",
      "  # standard deviations of synaptic current amplitudes\n",
      "  PSC_sd =  np.array([PSC_e, PSC_i]) * PSC_rel_sd\n",
      "  PSC_th_sd =  PSC_ext * PSC_rel_sd\n",
      "\n",
      "  # standard deviations of delays\n",
      "  delays_sd =  delays * delay_rel_sd\n",
      "  delay_th_sd =  delay_th * delay_th_rel_sd\n",
      "\n",
      "  # numbers of neurons from which to record spikes and membrane potentials\n",
      "  if record_fraction_neurons_spikes:\n",
      "    n_neurons_rec_spikes = frac_rec_spikes*n_neurons\n",
      "  else:\n",
      "    n_neurons_rec_spikes = np.tile(n_rec_spikes, (n_layers, n_pops_per_layer, 1))\n",
      "\n",
      "  if record_fraction_neurons_voltage:\n",
      "    n_neurons_rec_voltage = frac_rec_voltage*n_neurons\n",
      "  else:\n",
      "    n_neurons_rec_voltage = np.tile(n_rec_voltage, (n_layers, n_pops_per_layer, 1))\n"
     ],
     "language": "python",
     "metadata": {},
     "outputs": [],
     "prompt_number": 51
    },
    {
     "cell_type": "markdown",
     "metadata": {},
     "source": [
      "# Create nodes"
     ]
    },
    {
     "cell_type": "code",
     "collapsed": false,
     "input": [
      "def CreateNetworkNodes():\n",
      "  global neuron_subnet_GIDs\n",
      "  global spike_detector_GIDs\n",
      "  global voltmeter_GIDs\n",
      "  global poisson_GIDs\n",
      "  global dc_GIDs\n",
      "  global th_neuron_subnet_GID\n",
      "  global th_poisson_GID\n",
      "  global th_spike_detector_GID\n",
      "\n",
      "  # create and configure neurons\n",
      "  nest.SetDefaults(neuron_model, model_params)\n",
      "  # arrays of GIDs:\n",
      "  # neuron subnets\n",
      "  neuron_subnet_GIDs = np.tile(0, (n_layers, n_pops_per_layer, 1))\n",
      "  # spike detectors\n",
      "  spike_detector_GIDs = np.tile(0, (n_layers, n_pops_per_layer, 1))\n",
      "  # voltmeters\n",
      "  voltmeter_GIDs = np.tile(0, (n_layers, n_pops_per_layer, 1))\n",
      "  # Poisson generators\n",
      "  poisson_GIDs = np.tile(0, (n_layers, n_pops_per_layer, 1))\n",
      "  # DC generators\n",
      "  dc_GIDs  = np.tile(0, (n_layers, n_pops_per_layer, 1))\n",
      "\n",
      "  for layer_index in xrange(n_layers):\n",
      "    nest.ChangeSubnet((0,)) # change to the root node\n",
      "\n",
      "    layer_subnet = nest.Create('subnet')\n",
      "\n",
      "    for population_index in xrange(n_pops_per_layer):\n",
      "      nest.ChangeSubnet(layer_subnet)\n",
      "\n",
      "      population_subnet = nest.Create('subnet')\n",
      "      nest.ChangeSubnet(population_subnet)\n",
      "\n",
      "      # create neurons\n",
      "      neuron_subnet = nest.Create('subnet')\n",
      "      nest.ChangeSubnet(neuron_subnet)\n",
      "      neuron_subnet_GIDs[layer_index][population_index] = neuron_subnet\n",
      "      nest.Create(neuron_model, n_neurons[layer_index][population_index])\n",
      "\n",
      "      # initialize membrane potentials\n",
      "      ctr = 0\n",
      "      for n in GetLocalNodes(neuron_subnet)[0]:\n",
      "        nest.SetStatus((n,), {'V_m': normal_rdvs[ctr].normal(Vm0_mean, Vm0_std)})\n",
      "\n",
      "      nest.ChangeSubnet(population_subnet)\n",
      "\n",
      "      # create and configure stimulus and recording devices\n",
      "      device_subnet = nest.Create('subnet')\n",
      "      nest.ChangeSubnet(device_subnet)\n",
      "      this_spike_detector = nest.Create('spike_detector')\n",
      "      # Set spike detector label for filenames. The GID of the spike\n",
      "      # detector and the process number are appended automatically.\n",
      "      nest.SetStatus(this_spike_detector, {\n",
      "        'label': spike_detector_label + '_' + str(layer_index) + '_' + str(population_index),\n",
      "        'to_file': save_cortical_spikes\n",
      "      })\n",
      "      spike_detector_GIDs[layer_index][population_index] = this_spike_detector\n",
      "\n",
      "      this_voltmeter = nest.Create('voltmeter')\n",
      "      nest.SetStatus(this_voltmeter, {\n",
      "        'label': voltmeter_label + '_' + str(layer_index) + '_' + str(population_index),\n",
      "        'to_file': save_voltages\n",
      "      })\n",
      "      voltmeter_GIDs[layer_index][population_index] = this_voltmeter\n",
      "\n",
      "      this_poisson_generator = nest.Create('poisson_generator')\n",
      "      this_K_bg = K_bg[layer_index][population_index]\n",
      "      nest.SetStatus(this_poisson_generator, {\n",
      "        'rate': this_K_bg * bg_rate\n",
      "      })\n",
      "      poisson_GIDs[layer_index][population_index] = this_poisson_generator\n",
      "\n",
      "      this_dc_generator = nest.Create('dc_generator')\n",
      "      nest.SetStatus(this_dc_generator, {\n",
      "        'amplitude': this_K_bg * dc_amplitude\n",
      "      })\n",
      "      dc_GIDs[layer_index][population_index] = this_dc_generator\n",
      "\n",
      "  # create and configure thalamic neurons (parrots) and their Poisson inputs\n",
      "  nest.ChangeSubnet((0,))\n",
      "  if n_thal > 0:\n",
      "    th_subnet = nest.Create('subnet')\n",
      "    nest.ChangeSubnet(th_subnet)\n",
      "\n",
      "    th_neuron_subnet_GID = nest.Create('subnet')\n",
      "    nest.ChangeSubnet(th_neuron_subnet_GID)\n",
      "    nest.Create('parrot_neuron')\n",
      "\n",
      "    nest.ChangeSubnet(th_subnet)\n",
      "    th_device_subnet = nest.Create('subnet')\n",
      "    nest.ChangeSubnet(th_device_subnet)\n",
      "    th_poisson_GID = nest.Create('poisson_generator')\n",
      "    nest.SetStatus(th_poisson_GID, {\n",
      "      'rate': th_rate,\n",
      "      'start': th_start,\n",
      "      'stop': th_start + th_duration\n",
      "    })\n",
      "\n",
      "    if record_thalamic_spikes:\n",
      "      th_spike_detector_GID = nest.Create('spike_detector')\n",
      "      nest.SetStatus(th_spike_detector_GID, {\n",
      "        'label': th_spike_detector_label,\n",
      "        'to_file': save_thalamic_spikes\n",
      "      })\n"
     ],
     "language": "python",
     "metadata": {},
     "outputs": [],
     "prompt_number": 52
    },
    {
     "cell_type": "markdown",
     "metadata": {},
     "source": [
      "# Write global IDs of nodes to a file"
     ]
    },
    {
     "cell_type": "code",
     "collapsed": false,
     "input": [
      "def WriteGIDstoFile():\n",
      "#   if run_mode == 'test':\n",
      "  f = GID_filename\n",
      "\n",
      "#   if run_mode == 'production':\n",
      "#     f = output_path + '/' + GID_filename\n",
      "\n",
      "  with open(f, 'w') as f:\n",
      "    for n in neuron_subnet_GIDs.flatten():\n",
      "      GIDs = nest.GetNodes((n,))\n",
      "      f.write(str(min(GIDs[0])) + '\\t' + str(max(GIDs[0])) + '\\n')\n",
      "\n",
      "    f.close()\n"
     ],
     "language": "python",
     "metadata": {},
     "outputs": [],
     "prompt_number": 53
    },
    {
     "cell_type": "markdown",
     "metadata": {},
     "source": [
      "# Connect the nodes"
     ]
    },
    {
     "cell_type": "code",
     "collapsed": false,
     "input": [
      "def ConnectNetworkNodes():\n",
      "  global neuron_subnet_GIDs\n",
      "  global spike_detector_GIDs\n",
      "  global voltmeter_GIDs\n",
      "  global poisson_GIDs\n",
      "  global dc_GIDs\n",
      "  global th_neuron_subnet_GID\n",
      "  global th_poisson_GID\n",
      "  global th_spike_detector_GID\n",
      "\n",
      "  # target layer\n",
      "  for target_layer in xrange(n_layers):\n",
      "    for target_pop in xrange(n_pops_per_layer):\n",
      "      # get neuron IDs\n",
      "      target_nodes = GetGlobalNodes(neuron_subnet_GIDs[target_layer][target_pop])\n",
      "\n",
      "      n_targets = n_neurons[target_layer][target_pop]\n",
      "      full_scale_n_targets = full_scale_n_neurons[target_layer][target_pop]\n",
      "\n",
      "      # source layer\n",
      "      for source_layer in xrange(n_layers):\n",
      "        # source population\n",
      "        for source_pop in xrange(n_pops_per_layer):\n",
      "          ### local connections\n",
      "\n",
      "          # get neuron IDs\n",
      "          source_nodes = GetGlobalNodes(neuron_subnet_GIDs[source_layer][source_pop])\n",
      "          n_sources = n_neurons[source_layer][source_pop]\n",
      "          full_scale_n_sources = full_scale_n_neurons[source_layer][source_pop]\n",
      "\n",
      "          # get connection probability\n",
      "          # pick row (target) in conn_probs\n",
      "          r = (target_layer * n_pops_per_layer) + target_pop\n",
      "          # pick column (source) in conn_probs\n",
      "          c = (source_layer * n_pops_per_layer) + source_pop\n",
      "          this_conn =  conn_probs[r][c]# probability for this connection\n",
      "\n",
      "          # Compute numbers of synapses assuming binomial degree\n",
      "          # distributions and allowing for multapses (see Potjans\n",
      "          # and Diesmann 2012 Cereb Cortex Eq. 1)\n",
      "          if preserve_K:\n",
      "            prod = full_scale_n_sources * full_scale_n_targets\n",
      "            n_syn_temp = np.log(1.-this_conn)/np.log((prod-1.)/prod)\n",
      "            this_n_synapses = int((n_syn_temp * n_targets) / full_scale_n_targets)\n",
      "          else:\n",
      "            prod = n_sources * n_targets\n",
      "            this_n_synapses = int(np.log(1.-this_conn)/np.log((prod-1.)/prod))\n",
      "\n",
      "          if this_n_synapses > 0:\n",
      "            mean_weight = PSC_array[target_layer][target_pop][source_layer][source_pop]\n",
      "            # Create label for target and source populations\n",
      "            conn_label = 'layers' + str(target_layer) + '_' + 'populations' + str(target_pop) + '-' + \\\n",
      "                        'layers' + str(source_layer) + '_' + 'populations' + str(source_pop)\n",
      "\n",
      "            # fill the weight dictionary for Connect and insert it into the synapse dictionary\n",
      "            if mean_weight > 0:\n",
      "              weight_dict_exc['mu'] = mean_weight\n",
      "              weight_dict_exc['sigma'] = np.abs(PSC_sd[source_pop])\n",
      "              syn_dict['weight'] = weight_dict_exc\n",
      "            else:\n",
      "              weight_dict_inh['mu'] = mean_weight\n",
      "              weight_dict_inh['sigma'] = np.abs(PSC_sd[source_pop])\n",
      "              syn_dict['weight'] = weight_dict_inh\n",
      "\n",
      "            # fill the delay dictionary for Connect and insert it into the synapse dictionary\n",
      "            delay_dict['mu'] = delays[source_pop]\n",
      "            delay_dict['sigma'] = np.abs(delays_sd[source_pop])\n",
      "            syn_dict['delay'] = delay_dict\n",
      "\n",
      "            # fill the connectivity dictionary with the number of synapses to be used\n",
      "            conn_dict['N'] = this_n_synapses\n",
      "            conn_dict['rule'] = 'fixed_total_number'\n",
      "\n",
      "            # Connect the populations\n",
      "            nest.Connect(source_nodes[0], target_nodes[0], conn_dict, syn_dict)\n",
      "\n",
      "      if n_thal > 0:\n",
      "        # connections from thalamic neurons\n",
      "\n",
      "        source_nodes = GetGlobalNodes(th_neuron_subnet_GID)\n",
      "        this_conn = C_th[target_layer][target_pop]\n",
      "\n",
      "        # Compute numbers of synapses assuming binomial degree\n",
      "        # distributions and allowing for multapses (see Potjans and\n",
      "        # Diesmann 2012 Cereb Cortex Eq. 1)\n",
      "        if preserve_K:\n",
      "          prod = n_thal * full_scale_n_targets\n",
      "          n_syn_temp = np.log(1.-this_conn)/np.log((prod-1.)/prod)\n",
      "          this_n_synapses = int(full_scale_n_targets / (n_syn_temp * n_targets))\n",
      "        else:\n",
      "          prod = n_thal * n_targets\n",
      "          this_n_synapses = int(np.log(1.-this_conn)/np.log((prod-1.)/prod))\n",
      "\n",
      "        if this_n_synapses > 0:\n",
      "          # create label for current target population\n",
      "          th_conn_label = layers[target_layer] + '_' + populations[target_pop]\n",
      "\n",
      "          # fill the weight dictionary for Connect\n",
      "          weight_dict_exc['mu'] = PSC_ext\n",
      "          weight_dict_exc['sigma'] = np.abs(PSC_th_sd)\n",
      "          # insert the weight dictionary into the synapse dictionary\n",
      "          syn_dict['weight'] = weight_dict_exc\n",
      "\n",
      "          # fill the delay dictionary for Connect\n",
      "          delay_dict['mu'] = delay_th\n",
      "          delay_dict['sigma'] = np.abs(delay_th_sd)\n",
      "          # insert the delay dictionary into the synapse dictionary\n",
      "          syn_dict['delay'] = delay_dict\n",
      "\n",
      "          conn_dict['N'] = this_n_synapses\n",
      "          conn_dict['rule'] = 'fixed_total_number'\n",
      "\n",
      "          nest.Connect(source_nodes, target_nodes, conn_dict, syn_dict)\n",
      "\n",
      "      # Connect devices\n",
      "      # record from a continuous range of IDs\n",
      "      # (appropriate for networks without topology)\n",
      "      # print tuple(spike_detector_GIDs[target_layer][target_pop])\n",
      "      # print target_nodes[:int(n_neurons_rec_spikes[target_layer][target_pop])][0]\n",
      "      nest.Connect(target_nodes[:int(n_neurons_rec_spikes[target_layer][target_pop])][0],\n",
      "        tuple(spike_detector_GIDs[target_layer][target_pop]),\n",
      "        'all_to_all')\n",
      "\n",
      "      nest.Connect(tuple(voltmeter_GIDs[target_layer][target_pop]),\n",
      "        tuple(target_nodes[:int(n_neurons_rec_voltage[target_layer][target_pop])])[0],\n",
      "        'all_to_all')\n",
      "\n",
      "      nest.Connect(tuple(poisson_GIDs[target_layer][target_pop]),\n",
      "        target_nodes[0],\n",
      "        'all_to_all',\n",
      "        {'weight': PSC_ext, 'delay': delays[0]})\n",
      "\n",
      "      nest.Connect(tuple(dc_GIDs[target_layer][target_pop]),\n",
      "        target_nodes[0],\n",
      "        'all_to_all')\n",
      "\n",
      "  if n_thal > 0:\n",
      "    # Connect thalamic poisson_generator to thalamic neurons (parrots)\n",
      "    nest.Connect(th_poisson_GID, GetGlobalNodes(th_neuron_subnet_GID))\n",
      "\n",
      "  if record_thalamic_spikes and n_thal > 0:\n",
      "    # Connect thalamic neurons to spike detector\n",
      "    nest.Connect(GetGlobalNodes(th_neuron_subnet_GID), th_spike_detector_GID)\n"
     ],
     "language": "python",
     "metadata": {},
     "outputs": [],
     "prompt_number": 54
    },
    {
     "cell_type": "markdown",
     "metadata": {},
     "source": [
      "# Run the simulation"
     ]
    },
    {
     "cell_type": "code",
     "collapsed": false,
     "input": [
      "CheckParameters()\n",
      "\n",
      "PrepareSimulation()\n",
      "\n",
      "DerivedParameters()\n",
      "\n",
      "CreateNetworkNodes()\n",
      "\n",
      "WriteGIDstoFile()\n",
      "\n",
      "ConnectNetworkNodes()\n",
      "\n",
      "nest.Simulate(t_sim)\n"
     ],
     "language": "python",
     "metadata": {},
     "outputs": [],
     "prompt_number": 55
    },
    {
     "cell_type": "markdown",
     "metadata": {},
     "source": [
      "# Analyze output"
     ]
    },
    {
     "cell_type": "code",
     "collapsed": false,
     "input": [
      "import glob\n",
      "import matplotlib.pyplot as plt\n",
      "import os"
     ],
     "language": "python",
     "metadata": {},
     "outputs": [],
     "prompt_number": 56
    },
    {
     "cell_type": "code",
     "collapsed": false,
     "input": [
      "datapath = '.'"
     ],
     "language": "python",
     "metadata": {},
     "outputs": [],
     "prompt_number": 57
    },
    {
     "cell_type": "code",
     "collapsed": false,
     "input": [
      "T = t_sim\n",
      "T_start = 200.   # starting point of analysis (to avoid transients)"
     ],
     "language": "python",
     "metadata": {},
     "outputs": [],
     "prompt_number": 58
    },
    {
     "cell_type": "markdown",
     "metadata": {},
     "source": [
      "load GIDs dumped into file"
     ]
    },
    {
     "cell_type": "code",
     "collapsed": false,
     "input": [
      "gidfile = open(os.path.join(datapath , 'population_GIDs.dat'), 'r')\n",
      "gids = []\n",
      "for l in gidfile:\n",
      "  a = l.split()\n",
      "  gids.append([int(a[0]),int(a[1])])\n",
      "print 'Global IDs:'\n",
      "print gids\n",
      "print"
     ],
     "language": "python",
     "metadata": {},
     "outputs": [
      {
       "output_type": "stream",
       "stream": "stdout",
       "text": [
        "Global IDs:\n",
        "[[4, 2071], [2079, 2661], [2670, 4860], [4868, 5414], [5423, 5907], [5915, 6020], [6029, 7467], [7475, 7768]]\n",
        "\n"
       ]
      }
     ],
     "prompt_number": 59
    },
    {
     "cell_type": "markdown",
     "metadata": {},
     "source": [
      "calculate number of populations from the GIDs"
     ]
    },
    {
     "cell_type": "code",
     "collapsed": false,
     "input": [
      "num_pops = len(gids)\n",
      "print 'Number of populations:'\n",
      "print num_pops\n",
      "print"
     ],
     "language": "python",
     "metadata": {},
     "outputs": [
      {
       "output_type": "stream",
       "stream": "stdout",
       "text": [
        "Number of populations:\n",
        "8\n",
        "\n"
       ]
      }
     ],
     "prompt_number": 60
    },
    {
     "cell_type": "markdown",
     "metadata": {},
     "source": [
      "first GID in each population"
     ]
    },
    {
     "cell_type": "code",
     "collapsed": false,
     "input": [
      "raw_first_gids = [gids[i][0] for i in np.arange(len(gids))]"
     ],
     "language": "python",
     "metadata": {},
     "outputs": [],
     "prompt_number": 61
    },
    {
     "cell_type": "markdown",
     "metadata": {},
     "source": [
      "population sizes"
     ]
    },
    {
     "cell_type": "code",
     "collapsed": false,
     "input": [
      "pop_sizes = [gids[i][1]-gids[i][0]+1 for i in np.arange(len(gids))]"
     ],
     "language": "python",
     "metadata": {},
     "outputs": [],
     "prompt_number": 62
    },
    {
     "cell_type": "markdown",
     "metadata": {},
     "source": [
      "numbers of neurons for which spikes were recorded"
     ]
    },
    {
     "cell_type": "code",
     "collapsed": false,
     "input": [
      "if record_fraction_neurons_spikes == True:\n",
      "  rec_sizes = [int(pop_sizes[i]*frac_rec_spikes) for i in xrange(len(pop_sizes))]\n",
      "else:\n",
      "  rec_sizes = [n_rec_spikes]*len(pop_sizes)"
     ],
     "language": "python",
     "metadata": {},
     "outputs": [],
     "prompt_number": 63
    },
    {
     "cell_type": "markdown",
     "metadata": {},
     "source": [
      "first GID of each population once device GIDs are dropped"
     ]
    },
    {
     "cell_type": "code",
     "collapsed": false,
     "input": [
      "first_gids=[int(1 + np.sum(pop_sizes[:i])) for i in np.arange(len(pop_sizes))]"
     ],
     "language": "python",
     "metadata": {},
     "outputs": [],
     "prompt_number": 64
    },
    {
     "cell_type": "markdown",
     "metadata": {},
     "source": [
      "last GID of each population once device GIDs are dropped"
     ]
    },
    {
     "cell_type": "code",
     "collapsed": false,
     "input": [
      "last_gids = [int(np.sum(pop_sizes[:i+1])) for i in np.arange(len(pop_sizes))]"
     ],
     "language": "python",
     "metadata": {},
     "outputs": [],
     "prompt_number": 65
    },
    {
     "cell_type": "markdown",
     "metadata": {},
     "source": [
      "convert lists to a nicer format, i.e. [[2/3e, 2/3i], []....]"
     ]
    },
    {
     "cell_type": "code",
     "collapsed": false,
     "input": [
      "Pop_sizes =[pop_sizes[i:i+2] for i in xrange(0,len(pop_sizes),2)]\n",
      "print 'Population sizes:'\n",
      "print Pop_sizes\n",
      "print"
     ],
     "language": "python",
     "metadata": {},
     "outputs": [
      {
       "output_type": "stream",
       "stream": "stdout",
       "text": [
        "Population sizes:\n",
        "[[2068, 583], [2191, 547], [485, 106], [1439, 294]]\n",
        "\n"
       ]
      }
     ],
     "prompt_number": 66
    },
    {
     "cell_type": "code",
     "collapsed": false,
     "input": [
      "Raw_first_gids =[raw_first_gids[i:i+2] for i in xrange(0,len(raw_first_gids),2)]\n",
      "\n",
      "First_gids = [first_gids[i:i+2] for i in xrange(0,len(first_gids),2)]\n",
      "\n",
      "Last_gids = [last_gids[i:i+2] for i in xrange(0,len(last_gids),2)]"
     ],
     "language": "python",
     "metadata": {},
     "outputs": [],
     "prompt_number": 67
    },
    {
     "cell_type": "markdown",
     "metadata": {},
     "source": [
      "total number of neurons in the simulation"
     ]
    },
    {
     "cell_type": "code",
     "collapsed": false,
     "input": [
      "num_neurons = last_gids[len(last_gids)-1]\n",
      "print 'Total number of neurons:'\n",
      "print num_neurons\n",
      "print"
     ],
     "language": "python",
     "metadata": {},
     "outputs": [
      {
       "output_type": "stream",
       "stream": "stdout",
       "text": [
        "Total number of neurons:\n",
        "7713\n",
        "\n"
       ]
      }
     ],
     "prompt_number": 68
    },
    {
     "cell_type": "markdown",
     "metadata": {},
     "source": [
      "load spikes from gdf files, correct GIDs and merge them in population files,\n",
      "and store spike trains"
     ]
    },
    {
     "cell_type": "code",
     "collapsed": false,
     "input": [
      "# will contain neuron id resolved spike trains\n",
      "neuron_spikes = [[] for i in np.arange(num_neurons+1)]\n",
      "# container for population-resolved spike data\n",
      "spike_data= [[[],[]],[[],[]],[[],[]],[[],[]],[[],[]],[[],[]],[[],[]],[[],[]]]\n",
      "\n",
      "counter = 0\n",
      "\n",
      "for layer in ['0','1','2','3']:\n",
      "  for population in ['0','1']:\n",
      "    output = os.path.join(datapath, 'population_spikes-{}-{}.gdf'.format(layer, population))\n",
      "    file_pattern = os.path.join(datapath, 'spikes_{}_{}*'.format(layer, population))\n",
      "    files = glob.glob(file_pattern)\n",
      "    print 'Merge '+str(len(files))+' spike files from L'+layer+'P'+population\n",
      "    if files:\n",
      "      merged_file = open(output,'w')\n",
      "      for f in files:\n",
      "        data = open(f,'r')\n",
      "        for l in data :\n",
      "          a = l.split()\n",
      "          a[0] = int(a[0])\n",
      "          a[1] = float(a[1])\n",
      "          raw_first_gid = Raw_first_gids[int(layer)][int(population)]\n",
      "          first_gid = First_gids[int(layer)][int(population)]\n",
      "          a[0] = a[0] - raw_first_gid + first_gid\n",
      "\n",
      "          if(a[1] > T_start):    # discard data in the start-up phase\n",
      "            spike_data[counter][0].append(num_neurons-a[0])\n",
      "            spike_data[counter][1].append(a[1]-T_start)\n",
      "            neuron_spikes[a[0]].append(a[1]-T_start)\n",
      "\n",
      "            converted_line = str(a[0]) + '\\t' + str(a[1]) +'\\n'\n",
      "            merged_file.write(converted_line)\n",
      "\n",
      "    data.close()\n",
      "    merged_file.close()\n",
      "    counter +=1"
     ],
     "language": "python",
     "metadata": {},
     "outputs": [
      {
       "output_type": "stream",
       "stream": "stdout",
       "text": [
        "Merge 8 spike files from L0P0\n",
        "Merge 8 spike files from L0P1\n",
        "Merge 8 spike files from L1P0\n",
        "Merge 8 spike files from L1P1"
       ]
      },
      {
       "output_type": "stream",
       "stream": "stdout",
       "text": [
        "\n",
        "Merge 8 spike files from L2P0\n",
        "Merge 8 spike files from L2P1"
       ]
      },
      {
       "output_type": "stream",
       "stream": "stdout",
       "text": [
        "\n",
        "Merge 8 spike files from L3P0\n",
        "Merge 8 spike files from L3P1\n"
       ]
      }
     ],
     "prompt_number": 69
    },
    {
     "cell_type": "markdown",
     "metadata": {},
     "source": [
      "Set color palette for matplotlib"
     ]
    },
    {
     "cell_type": "code",
     "collapsed": false,
     "input": [
      "import matplotlib.cm as cm\n",
      "tableau20 = [(31, 119, 180), (174, 199, 232), (255, 127, 14), (255, 187, 120),\n",
      "             (44, 160, 44), (152, 223, 138), (214, 39, 40), (255, 152, 150),\n",
      "             (148, 103, 189), (197, 176, 213), (140, 86, 75), (196, 156, 148),\n",
      "             (227, 119, 194), (247, 182, 210), (127, 127, 127), (199, 199, 199),\n",
      "             (188, 189, 34), (219, 219, 141), (23, 190, 207), (158, 218, 229)]\n",
      "for i in range(len(tableau20)):\n",
      "  r, g, b = tableau20[i]\n",
      "  tableau20[i] = (r / 255., g / 255., b / 255.)\n",
      "\n",
      "clrs = tableau20\n",
      "plt.ion()"
     ],
     "language": "python",
     "metadata": {},
     "outputs": [],
     "prompt_number": 70
    },
    {
     "cell_type": "markdown",
     "metadata": {},
     "source": [
      "raster plot of spikes"
     ]
    },
    {
     "cell_type": "code",
     "collapsed": false,
     "input": [
      "plt.figure(1)\n",
      "counter = 1\n",
      "for j in np.arange(num_pops):\n",
      "    for i in np.arange(first_gids[j],first_gids[j]+rec_sizes[j]):\n",
      "      if len(neuron_spikes[i]):\n",
      "        plt.plot(neuron_spikes[i],np.ones_like(neuron_spikes[i])+sum(rec_sizes)-counter,'k o',ms=1, mfc=clrs[j],mec=clrs[j])\n",
      "      counter+=1\n",
      "plt.xlim(0,T-T_start)\n",
      "plt.ylim(0,sum(rec_sizes))\n",
      "plt.xlabel(r'time (ms)')\n",
      "plt.ylabel(r'neuron id')\n",
      "plt.show()"
     ],
     "language": "python",
     "metadata": {},
     "outputs": [
      {
       "metadata": {},
       "output_type": "display_data",
       "png": "[encoded data removed]",
       "text": [
        "<matplotlib.figure.Figure at 0x7f82480ea090>"
       ]
      }
     ],
     "prompt_number": 71
    },
    {
     "cell_type": "markdown",
     "metadata": {},
     "source": [
      "Calculate firing rates"
     ]
    },
    {
     "cell_type": "code",
     "collapsed": false,
     "input": [
      "rates = []\n",
      "temp = 0\n",
      "\n",
      "for i in np.arange(num_pops):\n",
      "  for j in np.arange(first_gids[i], last_gids[i]):\n",
      "    temp += len(neuron_spikes[j])\n",
      "  rates.append(temp/(rec_sizes[i]*(T-T_start))*1e3)\n",
      "  temp = 0"
     ],
     "language": "python",
     "metadata": {},
     "outputs": [],
     "prompt_number": 72
    },
    {
     "cell_type": "markdown",
     "metadata": {},
     "source": [
      "Plot firing rates in different layers as a bar chart"
     ]
    },
    {
     "cell_type": "code",
     "collapsed": false,
     "input": [
      "plt.figure(2)\n",
      "ticks= np.arange(num_pops)\n",
      "plt.bar(ticks, rates, width=0.9, color=clrs)\n",
      "xticklabels = ['L2/3e','L2/3i','L4e','L4i','L5e','L5i','L6e','L6i']\n",
      "plt.setp(plt.gca(), xticks=ticks+0.5, xticklabels=xticklabels)\n",
      "plt.xlabel(r'subpopulation')\n",
      "plt.ylabel(r'firing rate (spikes/s)')\n",
      "\n",
      "plt.show()"
     ],
     "language": "python",
     "metadata": {},
     "outputs": [
      {
       "metadata": {},
       "output_type": "display_data",
       "png": "[encoded data removed]",
       "text": [
        "<matplotlib.figure.Figure at 0x7f824827d150>"
       ]
      }
     ],
     "prompt_number": 73
    },
    {
     "cell_type": "code",
     "collapsed": false,
     "input": [],
     "language": "python",
     "metadata": {},
     "outputs": [],
     "prompt_number": 73
    }
   ],
   "metadata": {}
  }
 ]
}