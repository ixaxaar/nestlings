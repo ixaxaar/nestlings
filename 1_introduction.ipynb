{
 "metadata": {
  "name": ""
 },
 "nbformat": 3,
 "nbformat_minor": 0,
 "worksheets": [
  {
   "cells": [
    {
     "cell_type": "markdown",
     "metadata": {},
     "source": [
      "Getting started\n",
      "======\n",
      "\n",
      "Replicated into ipython notebook form from http://www.nest-initiative.org/images/4/49/NEST_By_Example-2-6-0.pdf\n",
      "\n",
      "Import numpy into our session"
     ]
    },
    {
     "cell_type": "code",
     "collapsed": false,
     "input": [
      "import numpy as np"
     ],
     "language": "python",
     "metadata": {},
     "outputs": [],
     "prompt_number": 1
    },
    {
     "cell_type": "markdown",
     "metadata": {},
     "source": [
      "You may need this extra step if you installed nest into an alternate path, e.g. `/opt`"
     ]
    },
    {
     "cell_type": "code",
     "collapsed": false,
     "input": [
      "import sys\n",
      "sys.path.append('/opt/lib/python2.7/site-packages/')"
     ],
     "language": "python",
     "metadata": {},
     "outputs": [],
     "prompt_number": 2
    },
    {
     "cell_type": "markdown",
     "metadata": {},
     "source": [
      "Our first simulation investigates the response of one integrate-and-fire neuron to an alternating current and Poisson spike trains from an excitatory and an inhibitory source.  \n",
      "We record the membrane potential of the neuron to observe how the stimuli influence the neuron.\n",
      "\n",
      "In this model, we inject a sine current with a frequency of 2 Hz and an amplitude of 100 pA into a neuron.  \n",
      "At the same time, the neuron receives random spiking input from two sources known as Poisson generators representing\n",
      "1. a large population of excitatory neurons\n",
      "2. a population of inhibitory neurons\n",
      "\n",
      "The rates of each population is set as the product of its assumed number of neurons and their average firing rate.\n",
      "This network is simulated for 1000 milliseconds, and its membrane potential is plotted vs time."
     ]
    },
    {
     "cell_type": "code",
     "collapsed": false,
     "input": [
      "import nest\n",
      "import pylab\n",
      "import nest.voltage_trace"
     ],
     "language": "python",
     "metadata": {},
     "outputs": [],
     "prompt_number": 3
    },
    {
     "cell_type": "code",
     "collapsed": false,
     "input": [
      "neuron = nest.Create(\"iaf_neuron\")"
     ],
     "language": "python",
     "metadata": {},
     "outputs": [],
     "prompt_number": 4
    },
    {
     "cell_type": "markdown",
     "metadata": {},
     "source": [
      "Create the sine current generator"
     ]
    },
    {
     "cell_type": "code",
     "collapsed": false,
     "input": [
      "sine = nest.Create('ac_generator', 1, {'amplitude': 100.0, 'frequency': 2.0})"
     ],
     "language": "python",
     "metadata": {},
     "outputs": [],
     "prompt_number": 5
    },
    {
     "cell_type": "markdown",
     "metadata": {},
     "source": [
      "Create a simulator of two large populations of neurons as poisson noise.\n",
      "\n",
      "Rates here correspond to the total spikes/s of the population."
     ]
    },
    {
     "cell_type": "code",
     "collapsed": false,
     "input": [
      "noise = nest.Create('poisson_generator', 2, [{'rate': 70000.0}, {'rate': 20000.0}])"
     ],
     "language": "python",
     "metadata": {},
     "outputs": [],
     "prompt_number": 6
    },
    {
     "cell_type": "markdown",
     "metadata": {},
     "source": [
      "Create a voltmeter to monitor membrane potentials"
     ]
    },
    {
     "cell_type": "code",
     "collapsed": false,
     "input": [
      "voltmeter = nest.Create('voltmeter', 1, {'withgid': True})"
     ],
     "language": "python",
     "metadata": {},
     "outputs": [],
     "prompt_number": 7
    },
    {
     "cell_type": "markdown",
     "metadata": {},
     "source": [
      "Make the connections\n",
      "1. Sine wave generator to neuron\n",
      "2. Voltmeter to neuron\n",
      "3. One noise ensemble as excitatory ensemble to neuron\n",
      "4. One noise ensemble as inhibitory ensemble to neuron"
     ]
    },
    {
     "cell_type": "code",
     "collapsed": false,
     "input": [
      "nest.Connect(sine, neuron)\n",
      "nest.Connect(voltmeter, neuron)\n",
      "nest.Connect(noise[:1], neuron, syn_spec={'weight': 1.0, 'delay': 1.0})\n",
      "nest.Connect(noise[1:], neuron, syn_spec={'weight': -1.0, 'delay': 1.0})"
     ],
     "language": "python",
     "metadata": {},
     "outputs": [],
     "prompt_number": 8
    },
    {
     "cell_type": "markdown",
     "metadata": {},
     "source": [
      "Simulate the whole neuronal network for 1000 milliseconds"
     ]
    },
    {
     "cell_type": "code",
     "collapsed": false,
     "input": [
      "nest.Simulate(1000.0)"
     ],
     "language": "python",
     "metadata": {},
     "outputs": [],
     "prompt_number": 9
    },
    {
     "cell_type": "markdown",
     "metadata": {},
     "source": [
      "Plot the trace of the membrane potential"
     ]
    },
    {
     "cell_type": "code",
     "collapsed": false,
     "input": [
      "nest.voltage_trace.from_device(voltmeter)\n",
      "pylab.show()"
     ],
     "language": "python",
     "metadata": {},
     "outputs": [
      {
       "metadata": {},
       "output_type": "display_data",
       "png": "[encoded data removed]",
       "text": [
        "<matplotlib.figure.Figure at 0x7f6f8457f910>"
       ]
      }
     ],
     "prompt_number": 10
    },
    {
     "cell_type": "markdown",
     "metadata": {},
     "source": [
      "Print the network structure"
     ]
    },
    {
     "cell_type": "code",
     "collapsed": false,
     "input": [
      "nest.PrintNetwork()"
     ],
     "language": "python",
     "metadata": {},
     "outputs": [],
     "prompt_number": 11
    }
   ],
   "metadata": {}
  }
 ]
}